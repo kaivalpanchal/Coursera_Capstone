{
 "cells": [
  {
   "cell_type": "markdown",
   "metadata": {},
   "source": [
    "Kaival J Panchal\n",
    "Coursera IBM Data Science Capstone\n",
    "\n",
    "Problem Statement:\t\n",
    "\n",
    "A customer approaches a real estate agent, and asks: Where is the best place to live in NJ where there are a good number of things to do, availability to grocery stores and necessities, and has a reasonable price? The real estate agent answers, well I need to search my database and get back to you. Most people don’t have time to wait around, so they look for a quick guide to get an idea of how the state of NJ is! Lucky for the customer, this analysis is exactly that! \n",
    "\n",
    "When thinking of buying a house or a place to live in the expensive state of New Jersey, there are many factors to consider: House prices, things to do, population, density, schools, environment, etc. It depends on how much money the buyer is willing to spend and what she wants in return. This analysis will serve as a guide/reference to whomever would like to purchase a home in the upcoming year in the State of New Jersey. We will be studying the house prices, the number of venues in a 5-mile radius, population, and density by towns and counties in NJ. In addition, we find a relation between the number of venues and county to see if there is any trade off between things to do and the average cost of homes in a specific county. Lastly, we recommend a list of towns and counties based on the amounts in the ranges of $0-200,000, 200,000-400,000, 400,000- 600,000, 600,000 to 850,000 and 850,000+ by selecting venue counts greater than 75 in a 5 mile radius. "
   ]
  },
  {
   "cell_type": "code",
   "execution_count": null,
   "metadata": {},
   "outputs": [],
   "source": []
  }
 ],
 "metadata": {
  "kernelspec": {
   "display_name": "Python 3",
   "language": "python",
   "name": "python3"
  },
  "language_info": {
   "codemirror_mode": {
    "name": "ipython",
    "version": 3
   },
   "file_extension": ".py",
   "mimetype": "text/x-python",
   "name": "python",
   "nbconvert_exporter": "python",
   "pygments_lexer": "ipython3",
   "version": "3.8.3"
  }
 },
 "nbformat": 4,
 "nbformat_minor": 4
}
