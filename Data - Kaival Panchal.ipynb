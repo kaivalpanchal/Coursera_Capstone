{
 "cells": [
  {
   "cell_type": "markdown",
   "metadata": {},
   "source": [
    "Kaival Panchal\n",
    "Coursera IBM Data Science\n",
    "\n",
    "Data: \n",
    "\n",
    "There are four sources of data that was used in this analysis. The first is geolocation data of each town in the state of New Jersey which provides us with the name of the town, zip code, and the Latitude and Longitude points. This will help us with visualization of trends and study of factors using the folium map. The second set of data is the County information from Wikipedia in which Beautiful Soup is used to scrape the data of County Name, its FIPS code, density, population and Area for each county In NJ. The third set of data is given by the State of NJ division of taxation which gives a breakdown of average residential sales prices for each town in NJ for the Year of 2020. Lastly, we utilize the Foursquare API to find venues in a 5 mile radius of each town. \n",
    "\n",
    "Links: \n",
    "1.\tGeoLocation Data: https://public.opendatasoft.com/explore/dataset/us-zip-code-latitude-and-longitude/table/?refine.state=NJ\n",
    "2.\tCounty Data: https://en.wikipedia.org/wiki/List_of_counties_in_New_Jersey\n",
    "3.\tResidential Sales Data: https://www.state.nj.us/treasury/taxation/lpt/class2avgsales.shtml\n",
    "4.\tFoursquare API\n"
   ]
  },
  {
   "cell_type": "code",
   "execution_count": null,
   "metadata": {},
   "outputs": [],
   "source": []
  }
 ],
 "metadata": {
  "kernelspec": {
   "display_name": "Python 3",
   "language": "python",
   "name": "python3"
  },
  "language_info": {
   "codemirror_mode": {
    "name": "ipython",
    "version": 3
   },
   "file_extension": ".py",
   "mimetype": "text/x-python",
   "name": "python",
   "nbconvert_exporter": "python",
   "pygments_lexer": "ipython3",
   "version": "3.8.3"
  }
 },
 "nbformat": 4,
 "nbformat_minor": 4
}
